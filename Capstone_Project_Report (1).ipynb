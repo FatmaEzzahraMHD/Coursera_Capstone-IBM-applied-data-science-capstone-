{
 "cells": [
  {
   "cell_type": "markdown",
   "metadata": {
    "id": "-eRtsvb3vyeI"
   },
   "source": [
    "<a href=\"https://www.bigdatauniversity.com\"><img src = \"https://ibm.box.com/shared/static/cw2c7r3o20w9zn8gkecaeyjhgw3xdgbj.png\" width = 400, align = \"center\"></a>\n",
    "\n",
    "<h1 align=center><font size = 6>Capstone Project Report</font></h1>"
   ]
  },
  {
   "cell_type": "markdown",
   "metadata": {
    "id": "WneRadySvyeO"
   },
   "source": [
    "## Table of contents\n",
    "* [Introduction: Business Problem](#introduction)\n",
    "* [Data](#data)\n",
    "* [Methodology](#methodology)\n",
    "* [Analysis](#analysis)\n",
    "* [Results and Discussion](#results)\n",
    "* [Conclusion](#conclusion)"
   ]
  },
  {
   "cell_type": "markdown",
   "metadata": {
    "id": "7J7vEEqBvyeP"
   },
   "source": [
    "\n",
    "## Introduction: Business Problem <a name=\"introduction\"></a>"
   ]
  },
  {
   "cell_type": "markdown",
   "metadata": {
    "id": "_DrnKajCvyeP"
   },
   "source": [
    "In this project we will try to find an optimal location for a restaurant. Specifically, this report will be targeted to stakeholders interested in opening a **restaurant** in **London**, England .\n",
    "\n",
    "Here we will try to find if someone wants to open a new restaurant in the city, then which location is best suited for it keeping in mind the competitors and which income group of people will be attracted most to it based on the **population of the neighbourhood**.\n",
    "\n",
    "Since there are lots of restaurants in Toronto, we will try to detect **locations that are not already crowded with restaurants**. We would also prefer locations **as close to city center as possible**, assuming that first two conditions are met.\n",
    "\n",
    "We will use data science tools and methodology to generate the most promissing neighborhoods based on this criteria. Advantages of each area will then be clearly expressed so that best possible final location can be chosen by stakeholders."
   ]
  },
  {
   "cell_type": "markdown",
   "metadata": {
    "id": "pt-eKXG2vyeQ"
   },
   "source": [
    "## Data <a name=\"data\"></a>"
   ]
  },
  {
   "cell_type": "markdown",
   "metadata": {
    "id": "AaEKydZFvyeQ"
   },
   "source": [
    "Based on definition of our problem, factors that will influence our decission are:\n",
    "* All existing restaurants in the neighborhood (any type of restaurant)\n",
    "* Age group of people with their income\n",
    "* Distance of neighborhood from city center\n",
    "\n",
    "We decided to use regularly spaced grid of locations, centered around city center, to define our neighborhoods.\n",
    "\n",
    "Following data sources will be needed to extract/generate the required information:\n",
    "* centers of candidate areas will be generated algorithmically and approximate addresses of centers of those areas will be obtained using **https://en.wikipedia.org/wiki/List_of_areas_of_London**\n",
    "* number of restaurants and their type and location in every neighborhood will be obtained using **Foursquare API**"
   ]
  },
  {
   "cell_type": "markdown",
   "metadata": {
    "id": "PHk26yFMvyeR"
   },
   "source": [
    "## Methodology <a name=\"methodology\"></a>"
   ]
  },
  {
   "cell_type": "markdown",
   "metadata": {
    "id": "cJpxh7jevyeS"
   },
   "source": [
    "The main moto of this project is to find best location to open a new restaurant in London, based on competition in different locality and their population.\n",
    "\n",
    "So, to do this I have used 2 different data sets available as mentioned above. Those 2 data set contains Locality information of Toronto, different age group of people in the people, population.\n",
    "\n",
    "To solve the problem I am going to use “K-Means Clustering Algorithm \".\n",
    "K-means clustering is a type of unsupervised learning, which is used when you have unlabeled data (i.e., data without defined categories or groups). The goal of this algorithm is to find groups in the data, with the number of groups represented by the variable K. The algorithm works iteratively to assign each data point to one of K groups based on the features that are provided. Data points are clustered based on feature similarity. The results of the K-means clustering algorithm are:\n",
    "\n",
    "The centroids of the K clusters, which can be used to label new data\n",
    "Labels for the training data (each data point is assigned to a single cluster)\n",
    "\n",
    "Also, I will be utilizing different maps in-order to give a clear vision to the target audience.\n",
    "\n",
    "\n",
    "Steps we took for the analysis:\n",
    "* Collected required **data**: location and type (category) of every restaurant within our lat and lng. We have also the type of resutaurants in particular locality.\n",
    "\n",
    "\n",
    "* Explored the most promising areas and within those create **clusters of locations that meet some basic requirements** established in discussion with stakeholders: we will take into consideration locations with **less restaurants in radius of 500 meters**, We will present map of all such locations but also create clusters (using **k-means clustering**) of those locations to explore neighborhood."
   ]
  },
  {
   "cell_type": "markdown",
   "metadata": {
    "id": "3_FfDu8vvyeT"
   },
   "source": [
    "## Analysis <a name=\"analysis\"></a>"
   ]
  },
  {
   "cell_type": "markdown",
   "metadata": {
    "id": "ZMdqqFbWvyeU"
   },
   "source": [
    "#### Data identifiaction, capturing and cleaning.\n",
    "      \n",
    "Search & Identify the relavant data source and capture it, here we are using wikipedia to get data about London, England. Then we remove all the redundant value(data cleaning). Then we combine neighborhood similar Bronx. Now the data is clean and ready to use."
   ]
  },
  {
   "cell_type": "markdown",
   "metadata": {
    "id": "vCclj_l1vyeU"
   },
   "source": [
    "#### Combining different data source and sorting neighborhood based on Longitude and latitude\n",
    "\n",
    "Now, we will combine neighborhood dataset with postal address and dataset with Latitude & Longitude and save them it separate data frame.The resultant data frame with contain details about Postal code, Brough, Neighborhood, Latitude & Longitude.Then visualize it using folium map."
   ]
  },
  {
   "cell_type": "markdown",
   "metadata": {
    "id": "CilogZN1vyeV"
   },
   "source": [
    "#### Explore the Toronto's neighborhoods\n",
    "\n",
    "First, we explored all the neighborhoods in the city , using the Latitude & Longitude data, using Foresquare API to get the Restaurant venues available in London.Explore the unique categories in the neighborhood.Filter the Venues details for all possible ‘Restaurants’. Find each neighborhood along with the top most common venues.Identify the top 10 venues for each neighborhood."
   ]
  },
  {
   "cell_type": "markdown",
   "metadata": {
    "id": "trTRLg2rvyeV"
   },
   "source": [
    "#### Clustering\n",
    "\n",
    "With an assumption of 5 clusters, use K-Cluster algorithm to come up with 5 different clusters in Toronto with similar set of Venues.Explore each cluster and determine the discriminating venue categories that distinguish each cluster. Identify the clusters & Boroughs/Neighborhoods with Maximum number restaurants and their types."
   ]
  },
  {
   "cell_type": "markdown",
   "metadata": {
    "id": "YX-EC69yvyeW"
   },
   "source": []
  },
  {
   "cell_type": "markdown",
   "metadata": {
    "id": "a00v_ChwvyeW"
   },
   "source": [
    "\n"
   ]
  },
  {
   "cell_type": "markdown",
   "metadata": {
    "id": "67KovirbvyeX"
   },
   "source": [
    "## Conclusion <a name=\"conclusion\"></a>"
   ]
  },
  {
   "cell_type": "markdown",
   "metadata": {
    "id": "IFySFWdrvyeY"
   },
   "source": [
    "The purpose of this project was to identify areas in London with low number of restaurants in order to help stakeholders in narrowing down the search for optimal location for a new restaurant. By calculating restaurant density distribution from Foursquare data we have first identified general boroughs that justify further analysis, and then generated extensive collection of locations which satisfy some basic requirements regarding existing nearby restaurants. Clustering of those locations was then performed in order to create major zones of interest (containing greatest number of potential locations) and addresses of those zone centers were created to be used as starting points for final exploration by stakeholders.\n",
    "\n",
    "Final decision on optimal restaurant location will be made by stakeholders based on specific characteristics of neighborhoods and locations in every recommended zone, taking into consideration additional factors like attractiveness of each location (proximity to park or water), levels of noise / proximity to major roads, real estate availability, prices, social and economic dynamics of every neighborhood etc."
   ]
  },
  {
   "cell_type": "markdown",
   "metadata": {
    "id": "EwwjJxy1vyeZ"
   },
   "source": [
    "<hr>"
   ]
  },
  {
   "cell_type": "markdown",
   "metadata": {
    "id": "mzsE3LTwvyeZ"
   },
   "source": [
    "### Thanks for reading this project!\n"
   ]
  },
  {
   "cell_type": "code",
   "execution_count": null,
   "metadata": {},
   "outputs": [],
   "source": []
  }
 ],
 "metadata": {
  "colab": {
   "name": "Capstone Project Report.ipynb",
   "provenance": []
  },
  "kernelspec": {
   "display_name": "Python 3",
   "language": "python",
   "name": "python3"
  },
  "language_info": {
   "codemirror_mode": {
    "name": "ipython",
    "version": 3
   },
   "file_extension": ".py",
   "mimetype": "text/x-python",
   "name": "python",
   "nbconvert_exporter": "python",
   "pygments_lexer": "ipython3",
   "version": "3.7.4"
  }
 },
 "nbformat": 4,
 "nbformat_minor": 1
}
