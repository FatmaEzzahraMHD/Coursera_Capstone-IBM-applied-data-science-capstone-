{
 "cells": [
  {
   "cell_type": "markdown",
   "metadata": {
    "id": "WDWNsPEgsHjB"
   },
   "source": [
    "<a href=\"https://www.bigdatauniversity.com\"><img src = \"https://ibm.box.com/shared/static/cw2c7r3o20w9zn8gkecaeyjhgw3xdgbj.png\" width = 400, align = \"center\"></a>\n",
    "\n",
    "<h1 align=center><font size = 6> Capstone Project Introduction</font></h1>"
   ]
  },
  {
   "cell_type": "markdown",
   "metadata": {
    "id": "epaHk9DqsHjF"
   },
   "source": [
    " ### In this notebook we will be exploring the City of London for new restaurants.\n",
    " \n",
    "<br>\n",
    "\n",
    "## Introduction\n"
   ]
  },
  {
   "cell_type": "markdown",
   "metadata": {
    "id": "AAIae2RUsHjG"
   },
   "source": [
    "    \n",
    "In this project we will be exploring London city's data.\n",
    "\n",
    "Here we will try to find if someone wants to open a new restaurant in the city, then which location is best suited for it keeping in mind the competitors and which income group of people will be attracted most to it based on the population of the neighbourhood.\n"
   ]
  },
  {
   "cell_type": "markdown",
   "metadata": {
    "id": "gAv_Au3ZsHjH"
   },
   "source": [
    "\n",
    "    \n",
    "## Business Problem:\n"
   ]
  },
  {
   "cell_type": "markdown",
   "metadata": {
    "id": "kOb8dqy5sHjH"
   },
   "source": [
    "London is the provincial capital of England and the most populous city in United kingdom.\n",
    "London encompasses a geographical area formerly administered by many separate municipalities. \n",
    "Having such vast population and big geographical area, there also exists big competition between businesses. Therefore it became very challenging for stake holder or new business to decide which area they should start their business to get higher revenue with lowest possible competition.\n",
    "\n",
    "<b>Target Audience:</b> New Business who wants to open a restaurant in Toronto.\n",
    "\n",
    "This project try to solve the above problem by suggesting the Target Audience which are the best locality to open new restaurants and gaining maximum profits in Toronto.\n"
   ]
  },
  {
   "cell_type": "markdown",
   "metadata": {
    "id": "zY1ItmRZsHjK"
   },
   "source": [
    "<hr>"
   ]
  },
  {
   "cell_type": "markdown",
   "metadata": {
    "id": "d4qWUR8zsHjK"
   },
   "source": [
    "### Thanks for reading this project!\n",
    "\n"
   ]
  },
  {
   "cell_type": "code",
   "execution_count": null,
   "metadata": {},
   "outputs": [],
   "source": []
  }
 ],
 "metadata": {
  "colab": {
   "name": "Capstone Project Introduction.ipynb",
   "provenance": []
  },
  "kernelspec": {
   "display_name": "Python 3",
   "language": "python",
   "name": "python3"
  },
  "language_info": {
   "codemirror_mode": {
    "name": "ipython",
    "version": 3
   },
   "file_extension": ".py",
   "mimetype": "text/x-python",
   "name": "python",
   "nbconvert_exporter": "python",
   "pygments_lexer": "ipython3",
   "version": "3.7.4"
  }
 },
 "nbformat": 4,
 "nbformat_minor": 1
}
